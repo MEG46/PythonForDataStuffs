{
 "cells": [
  {
   "cell_type": "code",
   "execution_count": 3,
   "id": "9b7997d0",
   "metadata": {},
   "outputs": [
    {
     "name": "stdout",
     "output_type": "stream",
     "text": [
      "          0         1         2         3         4\n",
      "0  1.510160  0.051369  0.183345  0.436816  1.594600\n",
      "1 -1.105578 -1.136441 -0.535296  1.024641 -0.008411\n",
      "2 -0.296127  0.168045  0.868046  1.572510 -0.866339\n",
      "3 -0.657489 -0.605246 -0.545687  1.521310  1.289607\n",
      "4  0.095283  0.923357 -0.175661  1.821062 -0.147006\n",
      "\n",
      "            First    Second     Third    Fourth     Fifth\n",
      "Esad     1.510160  0.051369  0.183345  0.436816  1.594600\n",
      "Bulent  -1.105578 -1.136441 -0.535296  1.024641 -0.008411\n",
      "Muazzez -0.296127  0.168045  0.868046  1.572510 -0.866339\n",
      "Oya     -0.657489 -0.605246 -0.545687  1.521310  1.289607\n",
      "Miray    0.095283  0.923357 -0.175661  1.821062 -0.147006\n",
      "\n",
      "            First    Second     Third    Fourth     Fifth\n",
      "Names                                                    \n",
      "Selenay  1.510160  0.051369  0.183345  0.436816  1.594600\n",
      "Merve   -1.105578 -1.136441 -0.535296  1.024641 -0.008411\n",
      "Mahmut  -0.296127  0.168045  0.868046  1.572510 -0.866339\n",
      "Eser    -0.657489 -0.605246 -0.545687  1.521310  1.289607\n",
      "Sezgin   0.095283  0.923357 -0.175661  1.821062 -0.147006\n"
     ]
    }
   ],
   "source": [
    "import numpy as np\n",
    "import pandas as pd\n",
    "\n",
    "data = np.random.randn(5,5)\n",
    "dataFrame = pd.DataFrame(data)\n",
    "print(dataFrame)\n",
    "print()\n",
    "newdataFrame = pd.DataFrame(data,index=[\"Esad\",\"Bulent\",\"Muazzez\",\"Oya\",\"Miray\"],columns=[\"First\",\"Second\",\"Third\",\"Fourth\",\"Fifth\"])\n",
    "print(newdataFrame)\n",
    "print()\n",
    "newlist = [\"Selenay\",\"Merve\",\"Mahmut\",\"Eser\",\"Sezgin\"]\n",
    "newdataFrame[\"Names\"] = newlist\n",
    "newdataFrame.set_index(\"Names\",inplace=True)\n",
    "print(newdataFrame)"
   ]
  },
  {
   "cell_type": "code",
   "execution_count": null,
   "id": "9e54190a",
   "metadata": {},
   "outputs": [],
   "source": []
  }
 ],
 "metadata": {
  "kernelspec": {
   "display_name": "Python 3 (ipykernel)",
   "language": "python",
   "name": "python3"
  },
  "language_info": {
   "codemirror_mode": {
    "name": "ipython",
    "version": 3
   },
   "file_extension": ".py",
   "mimetype": "text/x-python",
   "name": "python",
   "nbconvert_exporter": "python",
   "pygments_lexer": "ipython3",
   "version": "3.9.13"
  }
 },
 "nbformat": 4,
 "nbformat_minor": 5
}
