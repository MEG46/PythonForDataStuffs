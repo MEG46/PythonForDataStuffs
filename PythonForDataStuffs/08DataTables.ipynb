{
 "cells": [
  {
   "cell_type": "code",
   "execution_count": 11,
   "id": "5fcc39a8",
   "metadata": {},
   "outputs": [
    {
     "name": "stdout",
     "output_type": "stream",
     "text": [
      "  Department Staff's Name  Salary\n",
      "0   Software         Esad    1002\n",
      "1   Software        Gamze    4235\n",
      "2  Marketing        Nedim    2345\n",
      "3  Marketing       Hasibe    5436\n",
      "4        Law        Murat    5676\n",
      "5        Law         Esra    7656\n",
      "\n",
      "            Staff's Name  Salary\n",
      "Department                      \n",
      "Law                    2       2\n",
      "Marketing              2       2\n",
      "Software               2       2\n",
      "\n",
      "            Salary\n",
      "Department        \n",
      "Law         6666.0\n",
      "Marketing   3890.5\n",
      "Software    2618.5\n",
      "\n",
      "           Staff's Name  Salary\n",
      "Department                     \n",
      "Law               Murat    7656\n",
      "Marketing         Nedim    5436\n",
      "Software          Gamze    4235\n",
      "\n",
      "           Salary                                                         \\\n",
      "            count    mean          std     min      25%     50%      75%   \n",
      "Department                                                                 \n",
      "Law           2.0  6666.0  1400.071427  5676.0  6171.00  6666.0  7161.00   \n",
      "Marketing     2.0  3890.5  2185.667061  2345.0  3117.75  3890.5  4663.25   \n",
      "Software      2.0  2618.5  2286.076224  1002.0  1810.25  2618.5  3426.75   \n",
      "\n",
      "                    \n",
      "               max  \n",
      "Department          \n",
      "Law         7656.0  \n",
      "Marketing   5436.0  \n",
      "Software    4235.0  \n"
     ]
    }
   ],
   "source": [
    "import numpy as np\n",
    "import pandas as pd\n",
    "info = {\"Department\" : [\"Software\",\"Software\",\"Marketing\",\"Marketing\",\"Law\",\"Law\"],\"Staff's Name\" : [\"Esad\",\"Gamze\",\"Nedim\",\"Hasibe\",\"Murat\",\"Esra\"],\"Salary\" : [1002,4235,2345,5436,5676,7656]}\n",
    "data = pd.DataFrame(info)\n",
    "print(data)\n",
    "print()\n",
    "group = data.groupby(\"Department\")\n",
    "print(group.count())\n",
    "print()\n",
    "print(group.mean())\n",
    "print()\n",
    "print(group.max())\n",
    "print()\n",
    "print(group.describe())"
   ]
  },
  {
   "cell_type": "code",
   "execution_count": null,
   "id": "4cecfce5",
   "metadata": {},
   "outputs": [],
   "source": []
  }
 ],
 "metadata": {
  "kernelspec": {
   "display_name": "Python 3 (ipykernel)",
   "language": "python",
   "name": "python3"
  },
  "language_info": {
   "codemirror_mode": {
    "name": "ipython",
    "version": 3
   },
   "file_extension": ".py",
   "mimetype": "text/x-python",
   "name": "python",
   "nbconvert_exporter": "python",
   "pygments_lexer": "ipython3",
   "version": "3.9.13"
  }
 },
 "nbformat": 4,
 "nbformat_minor": 5
}
