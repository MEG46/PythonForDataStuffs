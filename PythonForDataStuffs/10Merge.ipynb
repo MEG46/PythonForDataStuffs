{
 "cells": [
  {
   "cell_type": "code",
   "execution_count": 14,
   "id": "4dea4bac",
   "metadata": {},
   "outputs": [
    {
     "name": "stdout",
     "output_type": "stream",
     "text": [
      "1. Table\n",
      "\n",
      "     Name     Sport\n",
      "0    Esad  Swimming\n",
      "1     Oya   Jogging\n",
      "2  Mahmut  Football\n",
      "3   Ilhan    Tennis\n",
      "\n",
      "2. Table\n",
      "\n",
      "     Name  Time(H)\n",
      "0  Mehmet        1\n",
      "1   Selin        4\n",
      "2   Semih        3\n",
      "3   Nalan        2\n",
      "\n",
      "3. Table\n",
      "\n",
      "Empty DataFrame\n",
      "Columns: [Name, Sport, Time(H)]\n",
      "Index: []\n",
      "\n"
     ]
    }
   ],
   "source": [
    "import numpy as np\n",
    "import pandas as pd\n",
    "\n",
    "dict1 = {\"Name\" : [\"Esad\",\"Oya\",\"Mahmut\",\"Ilhan\"],\"Sport\" : [\"Swimming\",\"Jogging\",\"Football\",\"Tennis\"]}\n",
    "data1 = pd.DataFrame(dict1)\n",
    "dict2 = {\"Name\" : [\"Mehmet\",\"Selin\",\"Semih\",\"Nalan\"],\"Time(H)\" : [1,4,3,2]}\n",
    "data2 = pd.DataFrame(dict2)\n",
    "data3 = pd.merge(data1,data2,on=\"Name\")\n",
    "print(\"1. Table\")\n",
    "print()\n",
    "print(data1)\n",
    "print()\n",
    "print(\"2. Table\")\n",
    "print()\n",
    "print(data2)\n",
    "print()\n",
    "print(\"3. Table\")\n",
    "print()\n",
    "print(data3)\n",
    "print()"
   ]
  },
  {
   "cell_type": "code",
   "execution_count": null,
   "id": "1ed62e72",
   "metadata": {},
   "outputs": [],
   "source": []
  },
  {
   "cell_type": "code",
   "execution_count": null,
   "id": "65af7eaa",
   "metadata": {},
   "outputs": [],
   "source": []
  }
 ],
 "metadata": {
  "kernelspec": {
   "display_name": "Python 3 (ipykernel)",
   "language": "python",
   "name": "python3"
  },
  "language_info": {
   "codemirror_mode": {
    "name": "ipython",
    "version": 3
   },
   "file_extension": ".py",
   "mimetype": "text/x-python",
   "name": "python",
   "nbconvert_exporter": "python",
   "pygments_lexer": "ipython3",
   "version": "3.9.13"
  }
 },
 "nbformat": 4,
 "nbformat_minor": 5
}
