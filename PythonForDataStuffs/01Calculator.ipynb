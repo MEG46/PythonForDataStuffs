{
 "cells": [
  {
   "cell_type": "code",
   "execution_count": 3,
   "id": "17a899b2",
   "metadata": {},
   "outputs": [
    {
     "name": "stdout",
     "output_type": "stream",
     "text": [
      "Please enter a number : 5\n",
      "Please enter a process : r\n",
      "Please enter a number : 4\n",
      "Invalid Process!\n",
      "Result :  125.0\n",
      "Please enter a process : e\n",
      "Please enter a number : 3\n",
      "125.0 ** 3.0 = 1953125.0\n",
      "Result :  1953125.0\n",
      "Please enter a process : 0\n",
      "Please enter a number : 5\n",
      "Please enter a process : +\n",
      "Please enter a number : 3\n",
      "5.0 + 3.0 = 8.0\n",
      "Result :  8.0\n"
     ]
    },
    {
     "ename": "KeyboardInterrupt",
     "evalue": "Interrupted by user",
     "output_type": "error",
     "traceback": [
      "\u001b[1;31m---------------------------------------------------------------------------\u001b[0m",
      "\u001b[1;31mKeyboardInterrupt\u001b[0m                         Traceback (most recent call last)",
      "\u001b[1;32m~\\AppData\\Local\\Temp\\ipykernel_11752\\604480762.py\u001b[0m in \u001b[0;36m<module>\u001b[1;34m\u001b[0m\n\u001b[0;32m     28\u001b[0m     \u001b[1;32melse\u001b[0m\u001b[1;33m:\u001b[0m\u001b[1;33m\u001b[0m\u001b[1;33m\u001b[0m\u001b[0m\n\u001b[0;32m     29\u001b[0m         \u001b[0mprint\u001b[0m\u001b[1;33m(\u001b[0m\u001b[1;34m\"Result : \"\u001b[0m\u001b[1;33m,\u001b[0m\u001b[0mnum1\u001b[0m\u001b[1;33m)\u001b[0m\u001b[1;33m\u001b[0m\u001b[1;33m\u001b[0m\u001b[0m\n\u001b[1;32m---> 30\u001b[1;33m         \u001b[0mch\u001b[0m \u001b[1;33m=\u001b[0m \u001b[0minput\u001b[0m\u001b[1;33m(\u001b[0m\u001b[1;34m\"Please enter a process : \"\u001b[0m\u001b[1;33m)\u001b[0m\u001b[1;33m\u001b[0m\u001b[1;33m\u001b[0m\u001b[0m\n\u001b[0m\u001b[0;32m     31\u001b[0m         \u001b[1;32mif\u001b[0m \u001b[0mch\u001b[0m \u001b[1;33m!=\u001b[0m \u001b[1;34m'0'\u001b[0m\u001b[1;33m:\u001b[0m\u001b[1;33m\u001b[0m\u001b[1;33m\u001b[0m\u001b[0m\n\u001b[0;32m     32\u001b[0m             \u001b[0mnum2\u001b[0m \u001b[1;33m=\u001b[0m \u001b[0mfloat\u001b[0m\u001b[1;33m(\u001b[0m\u001b[0minput\u001b[0m\u001b[1;33m(\u001b[0m\u001b[1;34m\"Please enter a number : \"\u001b[0m\u001b[1;33m)\u001b[0m\u001b[1;33m)\u001b[0m\u001b[1;33m\u001b[0m\u001b[1;33m\u001b[0m\u001b[0m\n",
      "\u001b[1;32mC:\\ProgramData\\Anaconda3\\lib\\site-packages\\ipykernel\\kernelbase.py\u001b[0m in \u001b[0;36mraw_input\u001b[1;34m(self, prompt)\u001b[0m\n\u001b[0;32m   1175\u001b[0m                 \u001b[1;34m\"raw_input was called, but this frontend does not support input requests.\"\u001b[0m\u001b[1;33m\u001b[0m\u001b[1;33m\u001b[0m\u001b[0m\n\u001b[0;32m   1176\u001b[0m             )\n\u001b[1;32m-> 1177\u001b[1;33m         return self._input_request(\n\u001b[0m\u001b[0;32m   1178\u001b[0m             \u001b[0mstr\u001b[0m\u001b[1;33m(\u001b[0m\u001b[0mprompt\u001b[0m\u001b[1;33m)\u001b[0m\u001b[1;33m,\u001b[0m\u001b[1;33m\u001b[0m\u001b[1;33m\u001b[0m\u001b[0m\n\u001b[0;32m   1179\u001b[0m             \u001b[0mself\u001b[0m\u001b[1;33m.\u001b[0m\u001b[0m_parent_ident\u001b[0m\u001b[1;33m[\u001b[0m\u001b[1;34m\"shell\"\u001b[0m\u001b[1;33m]\u001b[0m\u001b[1;33m,\u001b[0m\u001b[1;33m\u001b[0m\u001b[1;33m\u001b[0m\u001b[0m\n",
      "\u001b[1;32mC:\\ProgramData\\Anaconda3\\lib\\site-packages\\ipykernel\\kernelbase.py\u001b[0m in \u001b[0;36m_input_request\u001b[1;34m(self, prompt, ident, parent, password)\u001b[0m\n\u001b[0;32m   1217\u001b[0m             \u001b[1;32mexcept\u001b[0m \u001b[0mKeyboardInterrupt\u001b[0m\u001b[1;33m:\u001b[0m\u001b[1;33m\u001b[0m\u001b[1;33m\u001b[0m\u001b[0m\n\u001b[0;32m   1218\u001b[0m                 \u001b[1;31m# re-raise KeyboardInterrupt, to truncate traceback\u001b[0m\u001b[1;33m\u001b[0m\u001b[1;33m\u001b[0m\u001b[0m\n\u001b[1;32m-> 1219\u001b[1;33m                 \u001b[1;32mraise\u001b[0m \u001b[0mKeyboardInterrupt\u001b[0m\u001b[1;33m(\u001b[0m\u001b[1;34m\"Interrupted by user\"\u001b[0m\u001b[1;33m)\u001b[0m \u001b[1;32mfrom\u001b[0m \u001b[1;32mNone\u001b[0m\u001b[1;33m\u001b[0m\u001b[1;33m\u001b[0m\u001b[0m\n\u001b[0m\u001b[0;32m   1220\u001b[0m             \u001b[1;32mexcept\u001b[0m \u001b[0mException\u001b[0m\u001b[1;33m:\u001b[0m\u001b[1;33m\u001b[0m\u001b[1;33m\u001b[0m\u001b[0m\n\u001b[0;32m   1221\u001b[0m                 \u001b[0mself\u001b[0m\u001b[1;33m.\u001b[0m\u001b[0mlog\u001b[0m\u001b[1;33m.\u001b[0m\u001b[0mwarning\u001b[0m\u001b[1;33m(\u001b[0m\u001b[1;34m\"Invalid Message:\"\u001b[0m\u001b[1;33m,\u001b[0m \u001b[0mexc_info\u001b[0m\u001b[1;33m=\u001b[0m\u001b[1;32mTrue\u001b[0m\u001b[1;33m)\u001b[0m\u001b[1;33m\u001b[0m\u001b[1;33m\u001b[0m\u001b[0m\n",
      "\u001b[1;31mKeyboardInterrupt\u001b[0m: Interrupted by user"
     ]
    }
   ],
   "source": [
    "count = 1\n",
    "while count >= 1 :\n",
    "    if count == 1:\n",
    "        num1 = float(input(\"Please enter a number : \"))\n",
    "        ch = input(\"Please enter a process : \")\n",
    "        num2 = float(input(\"Please enter a number : \"))\n",
    "        if ch == '+':\n",
    "            result = float(num1 + num2)\n",
    "            print(str(num1) + \" + \" + str(num2) + \" = \" + str(result))\n",
    "        elif ch == '-':\n",
    "            result = float(num1 - num2)\n",
    "            print(str(num1) + \" - \" + str(num2) + \" = \" + str(result))\n",
    "        elif ch == 'x' or ch == '*':\n",
    "            result = float(num1 * num2)\n",
    "            print(str(num1) + \" x \" + str(num2) + \" = \" + str(result))\n",
    "        elif ch == 'e':\n",
    "            result = float(num1 ** num2)\n",
    "            print(str(num1) + \" ** \" + str(num2) + \" = \" + str(result))\n",
    "        elif ch == '/' :\n",
    "            if num2 == 0:\n",
    "                print(\"Couldn't divided by 0! Please try again!\")\n",
    "            else:\n",
    "                result = float(num1 / num2)\n",
    "                print(str(num1) + \" / \" + str(num2) + \" = \" + str(result))\n",
    "        else:\n",
    "              print(\"Invalid Process!\")\n",
    "        num1 = result\n",
    "    else:\n",
    "        print(\"Result : \",num1)\n",
    "        ch = input(\"Please enter a process : \")\n",
    "        if ch != '0':\n",
    "            num2 = float(input(\"Please enter a number : \"))\n",
    "        if ch == '+':\n",
    "            result = float(num1 + num2)\n",
    "            print(str(num1) + \" + \" + str(num2) + \" = \" + str(result))\n",
    "        elif ch == '-':\n",
    "            result = float(num1 - num2)\n",
    "            print(str(num1) + \" - \" + str(num2) + \" = \" + str(result))\n",
    "        elif ch == 'e':\n",
    "            result = float(num1 ** num2)\n",
    "            print(str(num1) + \" ** \" + str(num2) + \" = \" + str(result))\n",
    "        elif ch == 'x' or ch == '*':\n",
    "            result = float(num1 * num2)\n",
    "            print(str(num1) + \" x \" + str(num2) + \" = \" + str(result))\n",
    "        elif ch == '/' :\n",
    "              if num2 == 0:\n",
    "                print(\"Couldn't divided by 0! Please try again!\")\n",
    "        elif ch == '0' :\n",
    "              count = 0\n",
    "        else:\n",
    "              print(\"Invalid Process!\")\n",
    "        num1 = result\n",
    "    count += 1\n",
    "\n"
   ]
  },
  {
   "cell_type": "code",
   "execution_count": null,
   "id": "8b52c938",
   "metadata": {},
   "outputs": [],
   "source": []
  }
 ],
 "metadata": {
  "kernelspec": {
   "display_name": "Python 3 (ipykernel)",
   "language": "python",
   "name": "python3"
  },
  "language_info": {
   "codemirror_mode": {
    "name": "ipython",
    "version": 3
   },
   "file_extension": ".py",
   "mimetype": "text/x-python",
   "name": "python",
   "nbconvert_exporter": "python",
   "pygments_lexer": "ipython3",
   "version": "3.9.13"
  }
 },
 "nbformat": 4,
 "nbformat_minor": 5
}
