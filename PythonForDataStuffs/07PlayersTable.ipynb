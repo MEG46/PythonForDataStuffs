{
 "cells": [
  {
   "cell_type": "code",
   "execution_count": 4,
   "id": "4e0db2c3",
   "metadata": {},
   "outputs": [
    {
     "name": "stdout",
     "output_type": "stream",
     "text": [
      "                                             Role Age Rating\n",
      "Fenerbahce  A.Bayindir                 Goalkeeper  24    5.9\n",
      "            Serdar                    Center-Back  32    5.4\n",
      "            G.Vernes                  Center-Back  29    5.7\n",
      "            A.Szalai                  Center-Back  24    6.4\n",
      "            B.Osayi-Samuel             Right-Back  25    5.9\n",
      "            M.Crespo           Center-Middlefield  26    5.9\n",
      "            W.Arao             Center-Middlefield  30    5.8\n",
      "            F.Kadioglu                  Left-Back  23    6.5\n",
      "            D.Rossi                   Left-Winger  24    5.8\n",
      "            J.King                   Right-Winger  31    5.9\n",
      "            M.Batshuayi            Center-Forward  29    5.9\n",
      "Galatasaray F.Muslera                  Goalkeeper  36    9.2\n",
      "            L.Dubios                    Left-Back  28    7.9\n",
      "            A.Bardakci                Center-Back  28    7.7\n",
      "            V.Nelsson                 Center-Back  24    8.4\n",
      "            S.Boey                     Right-Back  22    7.9\n",
      "            B.Kutlu            Center-Middlefield  24    7.9\n",
      "            S.Oliveira         Center-Middlefield  30    8.8\n",
      "            K.Akturkoglu              Left-Winger  24    8.8\n",
      "            D.Mertens       Attacking Middlefield  35    8.4\n",
      "            M.Rashica                Right-Winger  26    8.5\n",
      "            B.Yilmaz               Center-Forward  22    7.9\n"
     ]
    }
   ],
   "source": [
    "import numpy as np\n",
    "import pandas as pd\n",
    "\n",
    "teams = [\"Fenerbahce\",\"Fenerbahce\",\"Fenerbahce\",\"Fenerbahce\",\"Fenerbahce\",\"Fenerbahce\",\"Fenerbahce\",\"Fenerbahce\",\"Fenerbahce\",\"Fenerbahce\",\"Fenerbahce\",\"Galatasaray\",\"Galatasaray\",\"Galatasaray\",\"Galatasaray\",\"Galatasaray\",\"Galatasaray\",\"Galatasaray\",\"Galatasaray\",\"Galatasaray\",\"Galatasaray\",\"Galatasaray\"]\n",
    "players = [\"A.Bayindir\",\"Serdar\",\"G.Vernes\",\"A.Szalai\",\"B.Osayi-Samuel\",\"M.Crespo\",\"W.Arao\",\"F.Kadioglu\",\"D.Rossi\",\"J.King\",\"M.Batshuayi\",\"F.Muslera\",\"L.Dubios\",\"A.Bardakci\",\"V.Nelsson\",\"S.Boey\",\"B.Kutlu\",\"S.Oliveira\",\"K.Akturkoglu\",\"D.Mertens\",\"M.Rashica\",\"B.Yilmaz\"]\n",
    "table = list(zip(teams,players))\n",
    "tables = pd.MultiIndex.from_tuples(table)\n",
    "traits = [[\"Goalkeeper\",24,5.9],[\"Center-Back\",32,5.4],[\"Center-Back\",29,5.7],[\"Center-Back\",24,6.4],[\"Right-Back\",25,5.9],[\"Center-Middlefield\",26,5.9],[\"Center-Middlefield\",30,5.8],[\"Left-Back\",23,6.5],[\"Left-Winger\",24,5.8],[\"Right-Winger\",31,5.9],[\"Center-Forward\",29,5.9],[\"Goalkeeper\",36,9.2],[\"Left-Back\",28,7.9],[\"Center-Back\",28,7.7],[\"Center-Back\",24,8.4],[\"Right-Back\",22,7.9],[\"Center-Middlefield\",24,7.9],[\"Center-Middlefield\",30,8.8],[\"Left-Winger\",24,8.8],[\"Attacking Middlefield\",35,8.4],[\"Right-Winger\",26,8.5],[\"Center-Forward\",22,7.9]]\n",
    "playernp = np.array(traits)\n",
    "dataFrame = pd.DataFrame(playernp,index=tables,columns=[\"Role\",\"Age\",\"Rating\"])\n",
    "print(dataFrame)\n"
   ]
  },
  {
   "cell_type": "code",
   "execution_count": null,
   "id": "7f51b16d",
   "metadata": {},
   "outputs": [],
   "source": []
  }
 ],
 "metadata": {
  "kernelspec": {
   "display_name": "Python 3 (ipykernel)",
   "language": "python",
   "name": "python3"
  },
  "language_info": {
   "codemirror_mode": {
    "name": "ipython",
    "version": 3
   },
   "file_extension": ".py",
   "mimetype": "text/x-python",
   "name": "python",
   "nbconvert_exporter": "python",
   "pygments_lexer": "ipython3",
   "version": "3.9.13"
  }
 },
 "nbformat": 4,
 "nbformat_minor": 5
}
