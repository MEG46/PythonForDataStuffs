{
 "cells": [
  {
   "cell_type": "code",
   "execution_count": 2,
   "id": "9d674cb6",
   "metadata": {},
   "outputs": [
    {
     "name": "stdout",
     "output_type": "stream",
     "text": [
      "Please enter a string : Muhammed\n",
      "Please enter a char : e\n",
      "True\n"
     ]
    }
   ],
   "source": [
    "def find(st,ch):\n",
    "    return ch in st\n",
    "a = input(\"Please enter a string : \")\n",
    "b = input(\"Please enter a char : \")\n",
    "print(find(a,b))"
   ]
  },
  {
   "cell_type": "code",
   "execution_count": null,
   "id": "65fbadd7",
   "metadata": {},
   "outputs": [],
   "source": []
  }
 ],
 "metadata": {
  "kernelspec": {
   "display_name": "Python 3 (ipykernel)",
   "language": "python",
   "name": "python3"
  },
  "language_info": {
   "codemirror_mode": {
    "name": "ipython",
    "version": 3
   },
   "file_extension": ".py",
   "mimetype": "text/x-python",
   "name": "python",
   "nbconvert_exporter": "python",
   "pygments_lexer": "ipython3",
   "version": "3.9.13"
  }
 },
 "nbformat": 4,
 "nbformat_minor": 5
}
