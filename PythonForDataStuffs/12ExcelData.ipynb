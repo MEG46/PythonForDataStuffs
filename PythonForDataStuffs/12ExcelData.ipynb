{
 "cells": [
  {
   "cell_type": "code",
   "execution_count": 12,
   "id": "61ced14d",
   "metadata": {},
   "outputs": [
    {
     "name": "stdout",
     "output_type": "stream",
     "text": [
      "  Unnamed: 0  Salary   Age        Job\n",
      "0       Esad    4560  20.0  Developer\n",
      "1     Mahmut    3243  23.0        NaN\n",
      "2      Helin    5348  54.0     Styler\n",
      "3     Reyhan    3232  21.0   Costumer\n",
      "4      Halit    3132   NaN      Guard\n",
      "5      Vehbi    4324  27.0  Sale Boss\n",
      "\n",
      "  Unnamed: 0  Salary   Age        Job\n",
      "0       Esad    4560  20.0  Developer\n",
      "2      Helin    5348  54.0     Styler\n",
      "3     Reyhan    3232  21.0   Costumer\n",
      "5      Vehbi    4324  27.0  Sale Boss\n"
     ]
    }
   ],
   "source": [
    "import pandas as pd\n",
    "data = pd.read_excel(\"datas.xlsx\")\n",
    "print(data)\n",
    "print()\n",
    "data1 = data.dropna()\n",
    "print(data1)\n",
    "data1.to_excel(\"newdata.xlsx\")"
   ]
  },
  {
   "cell_type": "code",
   "execution_count": null,
   "id": "5b35f03a",
   "metadata": {},
   "outputs": [],
   "source": []
  }
 ],
 "metadata": {
  "kernelspec": {
   "display_name": "Python 3 (ipykernel)",
   "language": "python",
   "name": "python3"
  },
  "language_info": {
   "codemirror_mode": {
    "name": "ipython",
    "version": 3
   },
   "file_extension": ".py",
   "mimetype": "text/x-python",
   "name": "python",
   "nbconvert_exporter": "python",
   "pygments_lexer": "ipython3",
   "version": "3.9.13"
  }
 },
 "nbformat": 4,
 "nbformat_minor": 5
}
