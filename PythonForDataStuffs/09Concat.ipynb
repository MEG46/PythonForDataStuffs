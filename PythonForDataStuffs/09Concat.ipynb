{
 "cells": [
  {
   "cell_type": "code",
   "execution_count": 12,
   "id": "3aa48161",
   "metadata": {},
   "outputs": [
    {
     "name": "stdout",
     "output_type": "stream",
     "text": [
      "1. Table\n",
      "\n",
      "     Name     Sport  Calory\n",
      "1    Esad  Swimming     200\n",
      "2     Oya   Jogging     324\n",
      "3  Mahmut  Football     354\n",
      "4   Ilhan    Tennis     345\n",
      "\n",
      "2. Table\n",
      "\n",
      "     Name     Sport  Calory\n",
      "5  Mehmet   Jogging     250\n",
      "6   Selin  Swimming     234\n",
      "7   Semih    Tennis     514\n",
      "8   Nalan  Football     205\n",
      "\n",
      "3. Table\n",
      "\n",
      "     Name     Sport  Calory\n",
      "9   Demir  Football     300\n",
      "10  Helin   Jogging     124\n",
      "11  Cemil    Tennis     347\n",
      "12  Ilyas  Swimming     293\n",
      "\n",
      "      Name     Sport  Calory\n",
      "1     Esad  Swimming     200\n",
      "2      Oya   Jogging     324\n",
      "3   Mahmut  Football     354\n",
      "4    Ilhan    Tennis     345\n",
      "5   Mehmet   Jogging     250\n",
      "6    Selin  Swimming     234\n",
      "7    Semih    Tennis     514\n",
      "8    Nalan  Football     205\n",
      "9    Demir  Football     300\n",
      "10   Helin   Jogging     124\n",
      "11   Cemil    Tennis     347\n",
      "12   Ilyas  Swimming     293\n"
     ]
    }
   ],
   "source": [
    "import numpy as np\n",
    "import pandas as pd\n",
    "\n",
    "dict1 = {\"Name\" : [\"Esad\",\"Oya\",\"Mahmut\",\"Ilhan\"],\"Sport\" : [\"Swimming\",\"Jogging\",\"Football\",\"Tennis\"],\"Calory\" : [200,324,354,345]}\n",
    "data1 = pd.DataFrame(dict1,index=[1,2,3,4])\n",
    "dict2 = {\"Name\" : [\"Mehmet\",\"Selin\",\"Semih\",\"Nalan\"],\"Sport\" : [\"Jogging\",\"Swimming\",\"Tennis\",\"Football\"],\"Calory\" : [250,234,514,205]}\n",
    "data2 = pd.DataFrame(dict2,index=[5,6,7,8])\n",
    "dict3 = {\"Name\" : [\"Demir\",\"Helin\",\"Cemil\",\"Ilyas\"],\"Sport\" : [\"Football\",\"Jogging\",\"Tennis\",\"Swimming\"],\"Calory\" : [300,124,347,293]}\n",
    "data3 = pd.DataFrame(dict3,index=[9,10,11,12])\n",
    "print(\"1. Table\")\n",
    "print()\n",
    "print(data1)\n",
    "print()\n",
    "print(\"2. Table\")\n",
    "print()\n",
    "print(data2)\n",
    "print()\n",
    "print(\"3. Table\")\n",
    "print()\n",
    "print(data3)\n",
    "print()\n",
    "datafnl = pd.concat([data1,data2,data3],axis=0)\n",
    "print(datafnl)"
   ]
  },
  {
   "cell_type": "code",
   "execution_count": null,
   "id": "508e2a99",
   "metadata": {},
   "outputs": [],
   "source": []
  }
 ],
 "metadata": {
  "kernelspec": {
   "display_name": "Python 3 (ipykernel)",
   "language": "python",
   "name": "python3"
  },
  "language_info": {
   "codemirror_mode": {
    "name": "ipython",
    "version": 3
   },
   "file_extension": ".py",
   "mimetype": "text/x-python",
   "name": "python",
   "nbconvert_exporter": "python",
   "pygments_lexer": "ipython3",
   "version": "3.9.13"
  }
 },
 "nbformat": 4,
 "nbformat_minor": 5
}
