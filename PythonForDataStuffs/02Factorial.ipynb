{
 "cells": [
  {
   "cell_type": "code",
   "execution_count": 1,
   "id": "fa3c4d0c",
   "metadata": {},
   "outputs": [
    {
     "name": "stdout",
     "output_type": "stream",
     "text": [
      "Enter a number : 6\n",
      "Enter a number : 1\n",
      "Permutation :  6.0\n",
      "Combination :  6.0\n"
     ]
    }
   ],
   "source": [
    "def fact(num):\n",
    "\tif num==1 or num==0 :\n",
    "\t\treturn 1\n",
    "\n",
    "\tresult = num * fact(num-1)\n",
    "\treturn result\n",
    "\n",
    "\n",
    "num1 = int(input(\"Enter a number : \"))\n",
    "num2 = int(input(\"Enter a number : \"))\n",
    "if num1>num2 :\n",
    "\t\tprint(\"Permutation : \",fact(num1)/fact(num1-num2))\n",
    "\t\tprint(\"Combination : \",fact(num1)/(fact(num1-num2)*fact(num2)))\n",
    "else:\n",
    "\t\tprint(\"Permutation : \",fact(num2)/fact(num2-num1))\n",
    "\t\tprint(\"Combination : \",fact(num2)/(fact(num2-num1)*fact(num1)))\n"
   ]
  }
 ],
 "metadata": {
  "kernelspec": {
   "display_name": "Python 3 (ipykernel)",
   "language": "python",
   "name": "python3"
  },
  "language_info": {
   "codemirror_mode": {
    "name": "ipython",
    "version": 3
   },
   "file_extension": ".py",
   "mimetype": "text/x-python",
   "name": "python",
   "nbconvert_exporter": "python",
   "pygments_lexer": "ipython3",
   "version": "3.9.13"
  }
 },
 "nbformat": 4,
 "nbformat_minor": 5
}
